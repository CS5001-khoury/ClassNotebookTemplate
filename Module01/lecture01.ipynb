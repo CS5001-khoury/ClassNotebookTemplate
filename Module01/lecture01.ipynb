{
 "cells": [
  {
   "cell_type": "markdown",
   "metadata": {
    "notebookRunGroups": {
     "groupValue": "1"
    }
   },
   "source": [
    "# Module 01 - CS 5001\n",
    "\n",
    "> A lady came up to the great violinist Fritz Kreisler after a concert and gushed, “Maestro, your violin makes such beautiful music.” Kreisler held his violin up to his ear and said, “I don’t hear any music coming out of it.”  - Dr. Melvin Kranzberg\n"
   ]
  },
  {
   "cell_type": "markdown",
   "metadata": {
    "notebookRunGroups": {
     "groupValue": "2"
    }
   },
   "source": [
    "## Six Laws of Technology\n",
    "\n",
    "1. Technology is neither good nor bad; nor is it neutral.\n",
    "   * Tech companies should try to anticipate how their tech can be used\n",
    "   * Should they even try? Do they have a social responsibility? \n",
    "2. Invention is the mother of necessity.\n",
    "   * Tech adds to tech. \n",
    "3. Technology comes in packages, big and small.\n",
    "   * From the nuclear bomb to the smart watch\n",
    "4. Although technology might be a prime element in many public issues, nontechnical factors take precedence in technology-policy decisions.\n",
    "   * Corollary - people who do not know about tech, make the laws about tech - unless we intervene\n",
    "5. All history is relevant, but the history of technology is the most relevant.\n",
    "   * As tech leads to tech\n",
    "6. **Technology is a very human activity.**\n"
   ]
  },
  {
   "cell_type": "markdown",
   "metadata": {},
   "source": [
    "## Your First Program\n",
    "\n",
    "* Python is set of instructions.\n",
    "* It is a limited grammar english.\n",
    "  * Meaning precision is essential. (a computer cannot guess at what you mean)\n",
    "* Learning to code is helping you use the instrument that is a computer. \n",
    "  * Like all instruments, it takes time to learn to play well. - practice, practice, practice. \n",
    "  \n",
    "\n",
    "> TASK: Open a new Python file in VS code  (follow along)\n",
    "> In the file type\n",
    "> ```python\n",
    "> print(\"Aloha, Your Name\") # using your name in place of your name\n",
    "> ```\n",
    "\n",
    "Save the file as `hello.py`\n",
    "Run the file by clicking the 'run' triangle in the top right."
   ]
  },
  {
   "cell_type": "markdown",
   "metadata": {},
   "source": []
  }
 ],
 "metadata": {
  "kernelspec": {
   "display_name": "Python 3",
   "language": "python",
   "name": "python3"
  },
  "language_info": {
   "codemirror_mode": {
    "name": "ipython",
    "version": 3
   },
   "file_extension": ".py",
   "mimetype": "text/x-python",
   "name": "python",
   "nbconvert_exporter": "python",
   "pygments_lexer": "ipython3",
   "version": "3.12.1"
  }
 },
 "nbformat": 4,
 "nbformat_minor": 2
}
